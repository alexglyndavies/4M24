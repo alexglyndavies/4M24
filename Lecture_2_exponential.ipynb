{
 "cells": [
  {
   "cell_type": "code",
   "execution_count": 14,
   "metadata": {},
   "outputs": [],
   "source": [
    "import numpy as np\n",
    "import matplotlib.pyplot as plt\n",
    "from scipy.stats import uniform, norm, expon"
   ]
  },
  {
   "cell_type": "markdown",
   "metadata": {},
   "source": [
    "<h1 align=\"center\"><b><u>Lecture 2 - The Monte Carlo Method</u></b></h1>\n",
    "\n",
    "<h2>Importance Sampling</h2>"
   ]
  },
  {
   "cell_type": "markdown",
   "metadata": {},
   "source": [
    "This notebook implements the importance sampling example seen in Lecture 2, and compares the efficency of this to the standard Monte Carlo method.\n",
    "\n",
    "The example attempts to estimate the probability that a component will last more than 25 years, given that the lifetimes are exponentially distributed $T_{\\text{life}} \\sim p(x) = \\begin{cases} e^{-x} &\n",
    "          x \\geq 0 \\\\\n",
    "      0 & x<0\\end{cases}$, with an expected life-time of one year.  We want to use Monte Carlo methods to esetimate the following expectation:\n",
    "\n",
    "$$\n",
    "\\begin{eqnarray*}\n",
    "\t\t\tI = P(T_{\\text{life}} \\geq 25) &=& \\mathbb{E}\\{I_{\\{T_{\\text{life}}\\geq25\\}}\\}\\\\\n",
    "\t\t\t                                    &=& \\int_{-\\infty}^{+\\infty}I_{\\{x\\geq25\\}}p(x)dx\\\\\n",
    "\t\t\t                                    &=& \\int_{0}^{+\\infty}I_{\\{x\\geq25\\}}e^{-x}dx\n",
    "\\end{eqnarray*}\n",
    "$$\n",
    "\n",
    "We can calculate this integral analytically, but the setup is used to motivate the use of, and provide intuition behind improtance sampling. To uncover the limitations for basic Monte Carlo in this scenario, we look at the acceptance rate of the sampler, which we can (in this particular case) derive analytically.\n",
    "\n",
    "$$\n",
    "\\frac{1}{N} \\sum_{i=1}^{N} I_{\\{X^{(i)} \\geq 25\\}}\n",
    "$$\n",
    "with each $X^{(i)} \\sim p(x) $\n",
    "\n",
    "However, this will not work in practice.  Calculating this gives us the probability of accepting a sample using the standard MC scheme. "
   ]
  },
  {
   "cell_type": "code",
   "execution_count": 37,
   "metadata": {},
   "outputs": [
    {
     "name": "stdout",
     "output_type": "stream",
     "text": [
      "I = 1.3887943864964021e-11\n"
     ]
    }
   ],
   "source": [
    "mu = 25\n",
    "I = np.exp(-mu)\n",
    "print(\"I = {}\".format(I))"
   ]
  },
  {
   "cell_type": "markdown",
   "metadata": {},
   "source": [
    "This means that for a single sample to have a contribution to the estimate, on average $1/I$ samples must be taken.  The notebook cell below calculates how long this notebook would take to produce a single accepted sample."
   ]
  },
  {
   "cell_type": "code",
   "execution_count": 38,
   "metadata": {},
   "outputs": [
    {
     "name": "stdout",
     "output_type": "stream",
     "text": [
      "Time to collect a non-rejected sample: 22 days\n"
     ]
    }
   ],
   "source": [
    "from timeit import timeit\n",
    "s_per_loop = timeit(lambda:expon.rvs(),number=10000)/10000\n",
    "secs = s_per_loop * (1/I)\n",
    "days = secs/(60*60*24)\n",
    "\n",
    "print(\"Time to collect a non-rejected sample: {} days\".format(round(days)))"
   ]
  },
  {
   "cell_type": "markdown",
   "metadata": {},
   "source": [
    "This is completely impractical.  The solution to this is the importance sampler.  A new density, $q(x)$, is chosen such that $q(x)\\neq0$ when $p(x)\\neq0$ (recall $X^{(i)} \\sim p(x)$).  This new density is aligned with the important regions of the space.  Since we are considering a lifetime of 25 years or more, the important region of space is almost all concentrated around $T_{\\text{life}}=25$.  A sensible choice for the new density could be $q(x) = \\mathcal{N}(25,1)$.  Samples $\\{X^{i}\\}_{i=1}^N$ are now taken from this density instead."
   ]
  },
  {
   "cell_type": "code",
   "execution_count": 44,
   "metadata": {},
   "outputs": [],
   "source": [
    "N = 2000\n",
    "qx_samples = norm.rvs(size=N,loc=mu,scale=1)"
   ]
  },
  {
   "cell_type": "markdown",
   "metadata": {},
   "source": [
    "The importance sampling estimate requires a different weighting of each sample, defined below:\n",
    "\n",
    "$$\n",
    "I = \\mathbb{E}_p \\{f(X)\\} = \\mathbb{E}_q \\{\\frac{f(X)p(X)}{q(X)}\\}\n",
    "$$\n",
    "\n",
    "so the estimate becomes:\n",
    "\n",
    "$$\n",
    "I^{*} = \\frac{1}{N}\\sum_{i=1}^{N} \\frac{f(X^{(i)})p(X^{(i)})}{q(X^{(i)})}\n",
    "$$\n",
    "\n",
    "The function below gives the importance weight for each sample."
   ]
  },
  {
   "cell_type": "code",
   "execution_count": 45,
   "metadata": {},
   "outputs": [],
   "source": [
    "def importance(x):\n",
    "    if x>=mu:\n",
    "        return expon.pdf(x)/norm.pdf(x,loc=mu,scale=1)\n",
    "    else: \n",
    "        return 0"
   ]
  },
  {
   "cell_type": "markdown",
   "metadata": {},
   "source": [
    "The importance sampling estimate is shown below, and compared to the true expectation."
   ]
  },
  {
   "cell_type": "code",
   "execution_count": 46,
   "metadata": {},
   "outputs": [
    {
     "name": "stdout",
     "output_type": "stream",
     "text": [
      "True P: 1.3887943864964021e-11, Importance Sampling Estimate: 1.3836550695681616e-11\n"
     ]
    }
   ],
   "source": [
    "MCE = (1/N) * sum([importance(x) for x in qx_samples])\n",
    "print(\"True P: {}, Importance Sampling Estimate: {}\".format(I,MCE))"
   ]
  },
  {
   "cell_type": "markdown",
   "metadata": {},
   "source": [
    "The importance sampler is able to form accurate estimates efficiently by suggesting a new density that covers the more important regions of space.  This is visualised below, showing why the new density has a much higher acceptance ratio."
   ]
  },
  {
   "cell_type": "code",
   "execution_count": 47,
   "metadata": {},
   "outputs": [],
   "source": [
    "x = np.linspace(0,12,1000)\n",
    "y1 = expon.pdf(x)\n",
    "y2 = norm.pdf(x,loc=7)"
   ]
  },
  {
   "cell_type": "code",
   "execution_count": 48,
   "metadata": {},
   "outputs": [
    {
     "data": {
      "image/png": "[encoded data removed]",
      "text/plain": [
       "<Figure size 432x288 with 1 Axes>"
      ]
     },
     "metadata": {
      "needs_background": "light"
     },
     "output_type": "display_data"
    }
   ],
   "source": [
    "plt.plot(x,y1,label=r\"$p(x)$\")\n",
    "plt.plot(x,y2,label=r\"$q(x)$\")\n",
    "plt.axvline(7,color='k',linestyle='--')\n",
    "plt.fill_between((7,12),(0.5,0.5),color='k',alpha=0.2)\n",
    "plt.annotate(\"Samples Accepted\",xy=(0.6,0.9),xycoords=\"axes fraction\",fontsize=14)\n",
    "plt.annotate(\"Samples Rejected\",xy=(0.1,0.9),xycoords=\"axes fraction\",fontsize=14)\n",
    "plt.legend(loc=\"lower right\")\n",
    "plt.xlabel(r\"$T_{ life }$\",fontsize=20)\n",
    "plt.xlim(0,12)\n",
    "plt.ylim(0,0.5)\n",
    "plt.show()"
   ]
  },
  {
   "cell_type": "code",
   "execution_count": null,
   "metadata": {},
   "outputs": [],
   "source": []
  }
 ],
 "metadata": {
  "kernelspec": {
   "display_name": "Python 3",
   "language": "python",
   "name": "python3"
  },
  "language_info": {
   "codemirror_mode": {
    "name": "ipython",
    "version": 3
   },
   "file_extension": ".py",
   "mimetype": "text/x-python",
   "name": "python",
   "nbconvert_exporter": "python",
   "pygments_lexer": "ipython3",
   "version": "3.8.5"
  }
 },
 "nbformat": 4,
 "nbformat_minor": 4
}
