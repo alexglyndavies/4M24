{
 "cells": [
  {
   "cell_type": "code",
   "execution_count": 1,
   "metadata": {},
   "outputs": [],
   "source": [
    "import numpy as np\n",
    "import matplotlib.pyplot as plt\n",
    "from scipy.stats import uniform, norm, multivariate_normal"
   ]
  },
  {
   "cell_type": "markdown",
   "metadata": {},
   "source": [
    "<h1 align=\"center\"><b><u>Lecture 10 - Gaussian Measures in Hilbert Space</u></b></h1>\n",
    "\n",
    "<h2>Dichotomy for Gaussian Product Measures</h2>"
   ]
  },
  {
   "cell_type": "markdown",
   "metadata": {},
   "source": [
    "Defining the following Gaussian product measures:</br>\n",
    "\n",
    "$$\n",
    "\\mu = \\prod_k \\mu_k\n",
    "\\text{ and     } \n",
    "\\nu = \\prod_k \\nu_k\n",
    "$$\n",
    "\n",
    "where each\n",
    "$$\n",
    "\\mu_k = \\mathcal{N}(m_k,\\sigma_1^2)\n",
    "$$\n",
    "$$\n",
    "\\nu_k = \\mathcal{N}(m_k,\\sigma_2^2)\n",
    "$$\n",
    "\n",
    "so that\n",
    "\n",
    "$$\n",
    "\\mu = \\mathcal{N}(m_1,\\sigma_1^2 I)\n",
    "$$\n",
    "$$\n",
    "\\nu = \\mathcal{N}(m_2,\\sigma_2^2 I)\n",
    "$$\n",
    "\n",
    "The dichotomy for Gaussian product measures for infinite dimensions means that either the measures are equivalent, or mutually singular.  This will be demonstrated simply using the above definitions of the two Gaussian product measures $\\mu$ and $\\nu$.  The Radon-Nikodym derivative between the two measures will reveal whether the two measures are absoutely continuous with respect to each other, or whether they are singular.\n",
    "\n",
    "The Radon-Nikodym derivative is found as follows:\n",
    "\n",
    "$$\n",
    "\\frac{d\\mu}{d\\nu}(x) = \\frac{\\frac{1}{Z_1} \\exp \\left( -\\frac{1}{2\\sigma_1^2}(x-m_1)^T(x-m_1) \\right) }{\\frac{1}{Z_2} \\exp \\left( -\\frac{1}{2\\sigma_2^2}(x-m_2)^T(x-m_2) \\right)}\n",
    "$$\n",
    "$$\n",
    "\\frac{d\\mu}{d\\nu}(x) = \\frac{1}{(\\frac{\\sigma_1}{\\sigma_2})^d} \\exp \\left( -\\frac{1}{2} \\left[  \\left(\\frac{1}{\\sigma_1^2} - \\frac{1}{\\sigma_2^2}\\right) x^T x - 2\\left( \\frac{m_1^T}{\\sigma_1^2} - \\frac{m_2^T}{\\sigma_2^2} \\right)x + \\frac{m_1^Tm_1}{\\sigma_1^2} - \\frac{m_2^Tm_2}{\\sigma_2^2}\\right] \\right)\n",
    "$$\n",
    "\n",
    "\n",
    "This derivative with $\\sigma_1 \\neq \\sigma_2$ will be divergent with increasing dimension $d$, because of the term outside the exponential. With $\\sigma_1 = \\sigma_2$, this term will not diverge but remains constant at 1.  Clearly, when both the means and variances are the same, the derivative will be constant, and will not diverge with increasing dimension.  So for this example, with the two measures become mutually singular in infinite dimensions ($\\sigma_1 \\neq \\sigma_2$ or $m_1 \\neq m_2$) or are equivalent ($\\sigma_1 = \\sigma_2$ and $m_1 = m_2$)."
   ]
  },
  {
   "cell_type": "markdown",
   "metadata": {},
   "source": [
    "<h2>Practical Example</h2>\n",
    "\n",
    "From Alexander Kukush's book \"Gaussian Measures in Hilbert Space\", there is a condition on the variances of a Gaussian product that also leads to a convergent derivative, hence equivalence in infinite dimensions.  This example is shown below and demonstrated in the code.\n",
    "\n",
    "Given a bounded sequence $\\{ \\beta_k \\}_{k=1}^{\\infty}$ where $\\sum_{k=1}^{\\infty}\\beta_k < \\infty$, and Gaussian product measures $\\nu = \\prod_k \\nu_k$, $\\nu_k = \\mathcal{N}(0,1)$ and $\\mu = \\prod_k \\mu_k$, $\\mu_k = \\mathcal{N}(0,1+\\beta_k)$.  The Radon-Nikodym derivative of $\\nu$ wrt $\\mu$:\n",
    "\n",
    "$$\\frac{d\\nu}{d\\mu}(x) = \\prod_{k=1}^{\\infty} \\frac{1}{1+\\beta_k} \\exp \\left( \\frac{\\beta_k x_k^2}{2(1+\\beta_k)} \\right)$$  \n",
    "\n",
    "converges almost everywhere with respect to $\\mu$.  \n",
    "\n",
    "The theory is tested below using two forms of the sequence $\\{ \\beta_k \\}_{k=1}^{\\infty}$, one bounded where $\\beta_k = \\frac{1}{2^k}$, $\\sum_{k=1}^{\\infty} \\beta_k = 2$. An unbounded sequence is also used to compare, where $\\beta_k = 1$, $\\sum_{k=1}^{\\infty} \\beta_k= \\infty$."
   ]
  },
  {
   "cell_type": "code",
   "execution_count": 2,
   "metadata": {},
   "outputs": [],
   "source": [
    "def beta_bounded(k):\n",
    "    return 1/pow(2, k)\n",
    "\n",
    "def beta_unbounded(k):\n",
    "    return 1"
   ]
  },
  {
   "cell_type": "markdown",
   "metadata": {},
   "source": [
    "The Radon-Nikodym derivative is evaluated at random values of $x$ and averaged over $N$ samples.  The dimension of the problem is increased to observe the convergence/divergence of the derivative."
   ]
  },
  {
   "cell_type": "code",
   "execution_count": 8,
   "metadata": {},
   "outputs": [],
   "source": [
    "def RND(dims, N, beta):\n",
    "    rnd = []\n",
    "    for d in dims:\n",
    "        \n",
    "        # Zero mean\n",
    "        m1 = np.zeros((d,))\n",
    "        m2 = np.zeros((d,))\n",
    "        \n",
    "        # Diagonal of Covariance matrices\n",
    "        s1 = np.ones((d,))\n",
    "        s2 = np.ones((d,))\n",
    "        \n",
    "        # Add on the sequence of betas to the second variance\n",
    "        for i in range(d):\n",
    "            s2[i] += beta(i)\n",
    "            \n",
    "        # Find an avearge of the derivative based on N samples from a standard mutlidimensional normal distribution\n",
    "        y = 0\n",
    "        for _ in range(N):\n",
    "            x = np.random.randn(d)\n",
    "            f1 = multivariate_normal.pdf(x=x, mean=m1, cov=np.diag(s1))\n",
    "            f2 = multivariate_normal.pdf(x=x, mean=m2, cov=np.diag(s2))\n",
    "            y += (f2/f1)\n",
    "        rnd.append(y/N)\n",
    "        \n",
    "    return rnd"
   ]
  },
  {
   "cell_type": "code",
   "execution_count": 9,
   "metadata": {},
   "outputs": [],
   "source": [
    "dims = np.arange(1,200,30)\n",
    "N = 3000"
   ]
  },
  {
   "cell_type": "code",
   "execution_count": 10,
   "metadata": {},
   "outputs": [],
   "source": [
    "rnd_bounded = RND(dims, N, beta_bounded)\n",
    "rnd_unbounded = RND(dims, N, beta_unbounded)"
   ]
  },
  {
   "cell_type": "code",
   "execution_count": 11,
   "metadata": {},
   "outputs": [
    {
     "data": {
      "image/png": "[encoded data removed]",
      "text/plain": [
       "<Figure size 720x360 with 2 Axes>"
      ]
     },
     "metadata": {
      "needs_background": "light"
     },
     "output_type": "display_data"
    }
   ],
   "source": [
    "## Plotting\n",
    "fig, (ax1, ax2) = plt.subplots(1, 2, figsize=(10, 5))\n",
    "ax1.plot(dims, rnd_bounded)\n",
    "ax2.plot(dims, rnd_unbounded)\n",
    "ax1.set_title(r'Bounded $\\beta_k = \\frac{1}{2^k}$', fontsize=16)\n",
    "ax2.set_title(r'Unbounded $\\beta_k = 1$', fontsize=16)\n",
    "ax1.set_ylim(0,max(rnd_bounded)*1.1)\n",
    "ax2.set_ylim(0,max(rnd_unbounded)*1.1)\n",
    "ax1.set_xlabel('Dimension', fontsize=16)\n",
    "ax2.set_xlabel('Dimension', fontsize=16)\n",
    "ax1.set_ylabel(r'$\\frac{d\\mu}{d\\nu}$', rotation=0, fontsize=20)\n",
    "ax2.set_ylabel(r'$\\frac{d\\mu}{d\\nu}$', rotation=0, fontsize=20)\n",
    "plt.show()"
   ]
  },
  {
   "cell_type": "markdown",
   "metadata": {},
   "source": [
    "Another example of the curse of dimensionality is shown through the degeneracy of acceptance probability with increasing dimension for an MCMC sampler."
   ]
  },
  {
   "cell_type": "code",
   "execution_count": 12,
   "metadata": {},
   "outputs": [],
   "source": [
    "# basic MH sampler implementation\n",
    "def MH(initial, proposal_cov, target, N):\n",
    "    \n",
    "    x_prev = initial\n",
    "    \n",
    "    acc = 0\n",
    "    for i in range(N):\n",
    "        x_new = multivariate_normal.rvs(mean=x_prev, cov=proposal_cov)\n",
    "        \n",
    "        a = min(target.pdf(x_new)/target.pdf(x_prev), 1)\n",
    "        u = np.random.rand()\n",
    "        if u<a:\n",
    "            acc+=1\n",
    "            x_prev = x_new\n",
    "        else:\n",
    "            pass\n",
    "    return acc/N"
   ]
  },
  {
   "cell_type": "code",
   "execution_count": 13,
   "metadata": {},
   "outputs": [],
   "source": [
    "dims = np.arange(1, 40, 2)\n",
    "acceptance = []\n",
    "for d in dims:\n",
    "    start = np.zeros(d)\n",
    "    proposal_cov = np.eye(d)\n",
    "    target = multivariate_normal(mean=np.zeros(d), cov=np.eye(d))\n",
    "    acceptance.append(MH(start, proposal_cov, target,1000))"
   ]
  },
  {
   "cell_type": "code",
   "execution_count": 14,
   "metadata": {},
   "outputs": [
    {
     "data": {
      "image/png": "[encoded data removed]",
      "text/plain": [
       "<Figure size 432x288 with 1 Axes>"
      ]
     },
     "metadata": {
      "needs_background": "light"
     },
     "output_type": "display_data"
    }
   ],
   "source": [
    "## Plotting\n",
    "plt.scatter(dims,acceptance,color='r', marker='x', s=50)\n",
    "plt.ylim(0, 1)\n",
    "plt.xlim(1, max(dims))\n",
    "plt.ylabel('Acceptance probability',fontsize=16)\n",
    "plt.xlabel('Dimension',fontsize=16)\n",
    "plt.show()"
   ]
  }
 ],
 "metadata": {
  "kernelspec": {
   "display_name": "Python 3",
   "language": "python",
   "name": "python3"
  },
  "language_info": {
   "codemirror_mode": {
    "name": "ipython",
    "version": 3
   },
   "file_extension": ".py",
   "mimetype": "text/x-python",
   "name": "python",
   "nbconvert_exporter": "python",
   "pygments_lexer": "ipython3",
   "version": "3.7.6"
  }
 },
 "nbformat": 4,
 "nbformat_minor": 4
}
