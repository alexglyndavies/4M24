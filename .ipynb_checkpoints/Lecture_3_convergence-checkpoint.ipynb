{
 "cells": [
  {
   "cell_type": "code",
   "execution_count": null,
   "metadata": {},
   "outputs": [],
   "source": [
    "fn = lambda x,n: pow(x,n)\n",
    "gn = lambda x,n: x/n\n",
    "## Plotting\n",
    "x = np.linspace(0,1,200)\n",
    "\n",
    "fig, ax = plt.subplots(nrows=1,ncols=2,figsize=(15,5))\n",
    "\n",
    "ax[0].plot(x,fn(x,2),color='b')\n",
    "ax[0].plot(x,fn(x,5),color='b')\n",
    "ax[0].plot(x,fn(x,10),color='b')\n",
    "ax[0].plot(x,fn(x,50),color='b',label=r\"$f_n \\in C[0,1]$\")\n",
    "y = np.zeros(200)\n",
    "y[-1] = 1\n",
    "ax[0].plot(x,y,color='r',label=r\"$f \\notin C[0,1]$\")\n",
    "ax[0].arrow(0.6,0.6,0.3,-0.4,color='k',width=0.015)\n",
    "ax[0].annotate(\"Increasing n\",xy=(0.45,0.65),xycoords=\"axes fraction\",fontsize=15)\n",
    "ax[0].set_xlabel(r\"$x$\",fontsize=16)\n",
    "ax[0].set_ylabel(r\"$f_n(x)$\",fontsize=16)\n",
    "ax[0].set_title(\"Pointwise Convergence\")\n",
    "ax[0].legend()\n",
    "\n",
    "ax[1].plot(x,gn(x,2),color='b')\n",
    "ax[1].plot(x,gn(x,5),color='b')\n",
    "ax[1].plot(x,gn(x,10),color='b')\n",
    "ax[1].plot(x,gn(x,50),color='b',label=r\"$g_n \\in C[0,1]$\")\n",
    "y = np.zeros(200)\n",
    "ax[1].plot(x,y,color='r',label=r\"$g \\in C[0,1]$\")\n",
    "ax[1].arrow(0.5,0.3,0.1,-0.2,color='k',width=0.015)\n",
    "ax[1].annotate(\"Increasing n\",xy=(0.4,0.65),xycoords=\"axes fraction\",fontsize=15)\n",
    "ax[1].set_xlabel(r\"$x$\",fontsize=16)\n",
    "ax[1].set_ylabel(r\"$g_n(x)$\",fontsize=16)\n",
    "ax[1].set_title(\"Uniform Convergence\")\n",
    "ax[1].legend()\n",
    "plt.show()"
   ]
  }
 ],
 "metadata": {
  "kernelspec": {
   "display_name": "Python 3",
   "language": "python",
   "name": "python3"
  },
  "language_info": {
   "codemirror_mode": {
    "name": "ipython",
    "version": 3
   },
   "file_extension": ".py",
   "mimetype": "text/x-python",
   "name": "python",
   "nbconvert_exporter": "python",
   "pygments_lexer": "ipython3",
   "version": "3.8.5"
  }
 },
 "nbformat": 4,
 "nbformat_minor": 4
}
