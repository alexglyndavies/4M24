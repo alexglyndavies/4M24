{
 "cells": [
  {
   "cell_type": "code",
   "execution_count": 1,
   "metadata": {},
   "outputs": [],
   "source": [
    "import numpy as np\n",
    "import matplotlib.pyplot as plt\n",
    "from scipy.stats import norm\n",
    "from scipy.spatial import distance_matrix"
   ]
  },
  {
   "cell_type": "markdown",
   "metadata": {},
   "source": [
    "<h1 align=\"center\"><b><u>Lecture 8 - Hilbert Spaces</u></b></h1>\n",
    "\n",
    "<h2>Reproducing Kernel Hilbert Space</h2>"
   ]
  },
  {
   "cell_type": "markdown",
   "metadata": {},
   "source": [
    "Lecture 8 introduces the idea of function approximation through the use of Reproducing Kernel Hilbert Space (RKHS).  This example reflects the regularised empirical error minimisation problem seen at the end of the lecture.  The derivations are shown here for a Radial Basis Function (RBF) kernel, and then the example is evaluated using a Gaussian kernel function.<br/>\n",
    "\n",
    "The dataset is made from pairs of 1D inputs and outputs $(x_1,y_1), (x_2,y_2), ... ,(x_N,y_N) \\in \\mathcal{X} \\times \\mathbb{R}$<br/> \n",
    "\n",
    "The regularised empirical error is given by:\n",
    "$$\n",
    "\\frac{1}{N} \\sum_{i=1}^{N} | f(x_i) - y_i |^2 + \\lambda \\left\\Vert f \\right\\Vert^2\n",
    "$$\n",
    "\n",
    "and is minimised by functions of the form:\n",
    "\n",
    "$$\n",
    "\\hat{f}(\\cdot) = \\sum_{n=1}^{N} \\alpha_n k(\\cdot, x_n)\n",
    "$$\n",
    "\n",
    "Where $k(\\cdot,\\cdot)$ is a general reproducing kernel function.  The coefficients can be found by evaluating:\n",
    "\n",
    "$$\n",
    "\\underset{\\alpha \\in \\mathbb{R}^N}{\\mathrm{argmin}} \\frac{1}{N} \\sum_{i=1}^{N} | f(x_i) - y_i |^2 + \\lambda \\left\\Vert f \\right\\Vert^2\n",
    "$$\n",
    "\n",
    "Defining the following vectors and matrix allows the error to be defined in vector form:\n",
    "\n",
    "$$\n",
    "\\alpha = \n",
    "\\begin{bmatrix}\n",
    "\\alpha_1\\\\\n",
    "\\alpha_2\\\\\n",
    "\\vdots\\\\\n",
    "\\alpha_N\\\\\n",
    "\\end{bmatrix}\n",
    "\\text{    ,    }\n",
    "y = \n",
    "\\begin{bmatrix}\n",
    "y_1\\\\\n",
    "y_2\\\\\n",
    "\\vdots\\\\\n",
    "y_N\\\\\n",
    "\\end{bmatrix}\n",
    "\\text{    ,    }\n",
    "K_{ij} = k(x_i,x_j)\n",
    "$$\n",
    "\n",
    "$$\n",
    "\\alpha^* = \\underset{\\alpha \\in \\mathbb{R}^N}{\\mathrm{argmin}}\\frac{1}{N}  \n",
    "(K\\alpha-y)^T(K\\alpha-y) + \\lambda \\left\\Vert f \\right\\Vert^2\n",
    "$$\n",
    "\n",
    "The error here is convex, and so the solution for alpha is found by taking the derivative and setting to zero. First the $L_2$ norm of $f$ needs to be rewritten.<br/>\n",
    "\n",
    "$$\n",
    "\\left\\Vert f \\right\\Vert^2 = \\langle f,f \\rangle = \\sum_{i}\\sum_{j} \\alpha_i\\alpha_j\n",
    "\\langle k(\\cdot,x_i),k(\\cdot,x_j) \\rangle = \\sum_{i}\\sum_{j} \\alpha_i\\alpha_j k(x_i,x_j) = \n",
    "\\alpha^T K \\alpha\n",
    "$$\n",
    "\n",
    "The third equality here is the significant step, and uses the reproducing property of the kernel function. i.e. $f = \\langle f, k \\rangle$.\n",
    "\n",
    "$$\n",
    "\\frac{\\partial}{\\partial \\alpha} \\frac{1}{N}  \n",
    "(K\\alpha-y)^T(K\\alpha-y) + \\lambda \\alpha^T K \\alpha = 0 \n",
    "$$\n",
    "$$\n",
    "\\frac{1}{N}K (K\\alpha - y) + \\lambda K \\alpha = 0\n",
    "$$\n",
    "\n",
    "The linear system that must then be solved is given below, this step is legitimate since $K$ must be positive semi-definite (positive definite if there are no repeated $x_i$ in the dataset).\n",
    "\n",
    "$$\n",
    "(K + \\lambda N I )\\alpha = y\n",
    "$$\n"
   ]
  },
  {
   "cell_type": "markdown",
   "metadata": {},
   "source": [
    "The dataset for the example will be generated using a generating function, with some small amount of noise so that the final approximating function can be compared to the generating function to see how good the approximation is."
   ]
  },
  {
   "cell_type": "code",
   "execution_count": 2,
   "metadata": {},
   "outputs": [],
   "source": [
    "###--- Data generation ---###\n",
    "sigma = 0.1    # The small added noise\n",
    "N = 10         # Number of training points\n",
    "\n",
    "# Generate data with some small error - uncomment the desired function\n",
    "g = lambda x: 2*x + np.sin(10*x) + 2      # Sine wave - l=0.1 works well, smaller length scale\n",
    "#g = lambda x: x                          # Ramp function - l=1 works well, larger length scale"
   ]
  },
  {
   "cell_type": "markdown",
   "metadata": {},
   "source": [
    "The generating function is defined as:\n",
    "\n",
    "$$\n",
    "g(x) = \\sin\\left(10x\\right) + 2x + 2\n",
    "$$\n",
    "\n",
    "and is evaluated at the training points $\\{x_i\\}_{i=1}^{N}$, giving $\\{y_i\\}_{i=1}^{N}$, with added noise to generate the data.  For plotting and further inspection of the function, it is also evaluated  at $\\{d_j\\}_{j=1}^{J}$, the evaluation points, with $J>>N$.\n"
   ]
  },
  {
   "cell_type": "code",
   "execution_count": 3,
   "metadata": {},
   "outputs": [],
   "source": [
    "# Training points\n",
    "x = np.linspace(0,1,N)\n",
    "y = g(x) + norm.rvs(size=N, loc=0,scale=sigma)\n",
    "\n",
    "# Evaluation points\n",
    "d = np.linspace(0,1,100)"
   ]
  },
  {
   "cell_type": "code",
   "execution_count": 4,
   "metadata": {},
   "outputs": [
    {
     "data": {
      "image/png": "[encoded data removed]",
      "text/plain": [
       "<Figure size 432x288 with 1 Axes>"
      ]
     },
     "metadata": {
      "needs_background": "light"
     },
     "output_type": "display_data"
    }
   ],
   "source": [
    "## Ploting\n",
    "plt.plot(d,g(d),color='b',label=\"Generating function\")\n",
    "plt.scatter(x,y,color='r',label=\"Generated data\")\n",
    "plt.xlabel(r\"$x$\")\n",
    "plt.legend()\n",
    "plt.show()"
   ]
  },
  {
   "cell_type": "markdown",
   "metadata": {},
   "source": [
    "The RBF kernel must now be defined, parameterised with a length scale parameter $l$.  The form of the RBF kernel is defined below:\n",
    "\n",
    "$$\n",
    "k(x,y) = \\exp\\left(-\\frac{|y-x|^2}{2l^2}\\right)\n",
    "$$\n",
    "\n",
    "For the implementation, the $\\texttt{scipy.spatial.distance-matrix}$ function is used to generate a matrix from the training point locations $x$, this is then scaled by $\\frac{-1}{2l^2}$ an fed through the $\\texttt{np.exp}$ function which performs the element wise exponential, finally giving $K_{xx}$ - the kernel matrix generated by the training point locations $x$.  This is an efficient vectorised procedure for evaluating the kernel matrix.\n"
   ]
  },
  {
   "cell_type": "code",
   "execution_count": 5,
   "metadata": {},
   "outputs": [],
   "source": [
    "def RBFKernel(x_data, l):\n",
    "    \"\"\" Generate RBF kernel matrix efficiently using scipy's distance matrix function\"\"\"\n",
    "    x = x_data.reshape((len(x_data), 1))\n",
    "    Y = distance_matrix(x,x)\n",
    "    return np.exp(-pow(Y,2)/(2*pow(l,2)))"
   ]
  },
  {
   "cell_type": "markdown",
   "metadata": {},
   "source": [
    "The next step is to solve the linear systems equation $(K + \\lambda N I )\\alpha = y$, which  is done using $\\texttt{np.linalg.lstsq}$, a least sqaures approach for evaluating the inverse."
   ]
  },
  {
   "cell_type": "code",
   "execution_count": 6,
   "metadata": {},
   "outputs": [],
   "source": [
    "def solve(K, x_data, y_data, reg):\n",
    "    return np.linalg.lstsq((K + (reg*len(x_data)*np.eye(len(x_data)))), y_data, rcond=None)[0]"
   ]
  },
  {
   "cell_type": "markdown",
   "metadata": {},
   "source": [
    "The last function approximates the function using the dataset and the evaluation points, so that we can compare the approximating function to the original generating function over the space.\n",
    "\n",
    "Each evaluation point gives an approximation:\n",
    "\n",
    "$$\n",
    "\\hat{f}(d_j) = \\sum_{n=1}^{N} \\alpha_n k(d_j, x_n)\n",
    "$$\n",
    "\n",
    "or vectorised:\n",
    "\n",
    "$$\n",
    "\\hat{f}_{d} =   K_{dx} \\alpha\n",
    "$$\n",
    "\n",
    "where $K_{dx}$ is generated from the vectors $d$ and $x$"
   ]
  },
  {
   "cell_type": "code",
   "execution_count": 7,
   "metadata": {},
   "outputs": [],
   "source": [
    "def approximate(x_new, l, alpha, x_data):\n",
    "    # get input data into (N,1) shape\n",
    "    x_data = x_data.reshape((len(x_data), 1))\n",
    "    x_new = x_new.reshape((len(x_new), 1))\n",
    "    \n",
    "    # Get kernel matrix\n",
    "    Y = distance_matrix(x_data, x_new)\n",
    "    Kxd = np.exp(-pow(Y.T, 2) / (2 * pow(l, 2)))\n",
    "    \n",
    "    # Perform approximation (equivalent to vectorised version of above markdown equation)\n",
    "    y_new = Kxd @ alpha\n",
    "\n",
    "    return y_new"
   ]
  },
  {
   "cell_type": "code",
   "execution_count": 11,
   "metadata": {},
   "outputs": [],
   "source": [
    "###--- Parameters ---###\n",
    "lam = 0.01   # Regularisation constant\n",
    "l = 0.1     # Gaussian kernel length scale"
   ]
  },
  {
   "cell_type": "code",
   "execution_count": 12,
   "metadata": {},
   "outputs": [],
   "source": [
    "K = RBFKernel(x,l)                   # Generate RBF kernel matirx\n",
    "\n",
    "alpha = solve(K,x,y,lam)                  # Solve equations for the coefficients\n",
    "\n",
    "y_approx = approximate(d,l,alpha,x)       # Evaluate the approximating function given the coefficients"
   ]
  },
  {
   "cell_type": "code",
   "execution_count": 13,
   "metadata": {},
   "outputs": [
    {
     "data": {
      "image/png": "[encoded data removed]",
      "text/plain": [
       "<Figure size 432x288 with 1 Axes>"
      ]
     },
     "metadata": {
      "needs_background": "light"
     },
     "output_type": "display_data"
    }
   ],
   "source": [
    "## Plotting\n",
    "plt.plot(d,g(d),color='b',label=\"Defining function\")\n",
    "plt.scatter(x,y,color='r',label=\"Generated data\")\n",
    "plt.plot(d,y_approx,color='orange',label=\"Approximating function\")\n",
    "plt.xlabel(r\"$x$\")\n",
    "plt.legend()\n",
    "plt.show()"
   ]
  },
  {
   "cell_type": "markdown",
   "metadata": {},
   "source": [
    "Now adjust both the generating function $g$, and the parameters ($lam$ and $l$).\n",
    "\n",
    "Try:\n",
    "<ul>\n",
    "    <li>Changing the generating function to the ramp function $g(x) = x$ with $l=0.1$.</li>\n",
    "    <li>Now increase $l$ to 1, does the approximation improve? why?</li>\n",
    "    <li>Now go back to the original generating function, with $l=0.1$, $lam=0.01$.  Adjust $lam$ between $0.001 - 10$ and observe the fit.  what is $\\lambda$ doing?</li>\n",
    "    <li>Adjust $l$ between 0.001 and 1, when is the approximation the best?  how does this relate to $g(x)$?</li>\n",
    "</ul>\n",
    "\n"
   ]
  }
 ],
 "metadata": {
  "kernelspec": {
   "display_name": "Python 3",
   "language": "python",
   "name": "python3"
  },
  "language_info": {
   "codemirror_mode": {
    "name": "ipython",
    "version": 3
   },
   "file_extension": ".py",
   "mimetype": "text/x-python",
   "name": "python",
   "nbconvert_exporter": "python",
   "pygments_lexer": "ipython3",
   "version": "3.8.5"
  }
 },
 "nbformat": 4,
 "nbformat_minor": 4
}
