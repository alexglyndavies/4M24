{
 "cells": [
  {
   "cell_type": "code",
   "execution_count": 1,
   "metadata": {},
   "outputs": [],
   "source": [
    "import numpy as np\n",
    "import matplotlib.pyplot as plt\n",
    "from scipy.stats import uniform, norm, multivariate_normal"
   ]
  },
  {
   "cell_type": "markdown",
   "metadata": {},
   "source": [
    "<h1 align=\"center\"><b><u>Lecture 10 - Gaussian Measures in Hilbert Space</u></b></h1>\n",
    "\n",
    "<h2>Singluar Measures</h2>"
   ]
  },
  {
   "cell_type": "markdown",
   "metadata": {},
   "source": [
    "Consider the domain $X \\subset \\mathbb{R}$ and two subsets $A$, $B$ s.t. $A \\cup B = X$ and $A \\cap B = \\emptyset$. \n",
    "\n",
    "Now consider two measures $\\nu$, $\\mu$ on X.\n",
    "\n",
    "If $\\nu(A) = 0$,   and  $\\mu(B) = 0$\n",
    "then $\\nu$ and $\\mu$ are <b>mutually singular</b>.  This is displayed below.\n",
    "\n"
   ]
  },
  {
   "cell_type": "markdown",
   "metadata": {},
   "source": [
    "<img src=\"img/sm.png\" width=400 height=400 />"
   ]
  },
  {
   "cell_type": "markdown",
   "metadata": {},
   "source": [
    "<h2>Product Measures</h2>"
   ]
  },
  {
   "cell_type": "markdown",
   "metadata": {},
   "source": [
    "Here, we state Kakutani's Theorem and use it to demonstrate the dichotomy of Gaussian product measures. \n",
    "\n",
    "Consider the two product measures \n",
    "$$\n",
    "\\nu = \\prod_{k=1}^{\\infty}\\nu_k\n",
    "\\hspace{5mm} \\text{and} \\hspace{5mm}\n",
    "\\mu = \\prod_{k=1}^{\\infty}\\mu_k\n",
    "$$\n",
    "\n",
    "Kakutani's Theorem states that for $\\nu$ and $\\mu$ to be absolutely continuous, then\n",
    "\n",
    "$$\n",
    "\\prod_{k=1}^{\\infty} \\int_{\\mathbb{R}} \\sqrt{\\frac{d\\nu_k}{d\\mu_k}}d\\mu_k < \\infty\n",
    "$$\n",
    "\n",
    "Defining $H$, as this product\n",
    "$$\n",
    "H(\\nu, \\mu) = \\prod_{k=1}^{\\infty} \\int_{\\mathbb{R}} \\sqrt{d\\nu_k d\\mu_k} < \\infty\n",
    "$$\n",
    "\n",
    "\\begin{align*}\n",
    "    \\text{If} \\hspace{5mm} H(\\nu,\\mu) &< \\infty \\hspace{5mm} \\nu << \\mu \\\\\n",
    "    \\text{If} \\hspace{5mm} H(\\nu,\\mu) &= 0 \\hspace{5mm} \\nu \\perp \\mu\n",
    "\\end{align*}\n",
    "\n",
    "Now taking the example of the Gaussian product measure, where we consider $H$ for a single $k$:\n",
    "\n",
    "\\begin{align*}\n",
    "    \\nu_k &= \\mathcal{N}(m_k^{\\nu}, \\sigma_k^{\\nu})\\\\\n",
    "    \\mu_k &= \\mathcal{N}(m_k^{\\mu}, \\sigma_k^{\\mu})\n",
    "\\end{align*}\n",
    "\n",
    "\\begin{align*}\n",
    "    H(\\nu_k, \\mu_k) &= \\int_{\\mathbb{R}} \\sqrt{d\\nu_k d\\mu_k} \\\\\n",
    "    & = (\\sigma_k^{\\nu} \\sigma_k^{\\mu})^{1/4} \\sqrt{\\frac{2}{\\sigma_k^{\\mu} + \\sigma_k^{\\nu}}}\n",
    "    \\exp \\left( -\\frac{(m_k^{\\nu} - m_k^{\\mu})}{4(\\sigma_k^{\\nu}+\\sigma_k^{\\mu})} \\right)\n",
    "\\end{align*}\n",
    "\n",
    "For simplicity, we consider the case where both means $m_k^{\\nu}, m_k^{\\mu} = 0, \\forall k$. Giving:\n",
    "\n",
    "$$\n",
    "H(\\nu, \\mu) = \\prod_{k=1}^{\\infty}(\\sigma_k^{\\nu} \\sigma_k^{\\mu})^{1/4} \\sqrt{\\frac{2}{\\sigma_k^{\\mu} + \\sigma_k^{\\nu}}}\n",
    "$$\n",
    "\n",
    "It can be shown that this product will converge if\n",
    "\n",
    "$$\n",
    "\\sum_{k=1}^{\\infty}\\left( \\frac{\\sigma_k^{\\nu} - \\sigma_k^{\\mu}}{\\sigma_k^{\\mu}} \\right)^2 < \\infty\n",
    "$$\n",
    "\n",
    "and so if this sum converges, then the Kakutani criterion is satisfied, and $\\nu, \\mu$ are absolutely continuous.  Now to show the dichotomy of Gaussian product measures, consider\n",
    "\n",
    "\\begin{align*}\n",
    "    \\nu &= \\prod_{k=1}^{\\infty}\\mathcal{N}(0,\\sigma)\\\\\n",
    "    \\mu &= \\prod_{k=1}^{\\infty}\\mathcal{N}(0,\\alpha\\sigma)\\\\\n",
    "\\end{align*}\n",
    "with $\\alpha \\in \\mathbb{R}_{>0}$, $\\alpha \\neq 1$\n",
    "\n",
    "Then the summation becomes \n",
    "$$\n",
    "\\sum_{k=1}^{\\infty}\\left( \\frac{1-\\alpha}{\\alpha} \\right)^2 \\rightarrow \\infty\n",
    "$$\n",
    "\n",
    "Which for any $\\alpha \\neq 1$, no matter how small will be unbounded, hence the produce measures are <b>mutually singular</b>."
   ]
  },
  {
   "cell_type": "markdown",
   "metadata": {},
   "source": [
    "<h2>Practical Example</h2>\n",
    "\n",
    "From Alexander Kukush's book \"Gaussian Measures in Hilbert Space\", there is a condition on the variances of a Gaussian product that also leads to a convergent derivative, hence equivalence in infinite dimensions.  This example is shown below and demonstrated in the code.\n",
    "\n",
    "Given a bounded sequence $\\{ \\beta_k \\}_{k=1}^{\\infty}$ where $\\sum_{k=1}^{\\infty}\\beta_k < \\infty$, and Gaussian product measures $\\nu = \\prod_k \\nu_k$, $\\nu_k = \\mathcal{N}(0,1)$ and $\\mu = \\prod_k \\mu_k$, $\\mu_k = \\mathcal{N}(0,1+\\beta_k)$.  The Radon-Nikodym derivative of $\\nu$ wrt $\\mu$:\n",
    "\n",
    "$$\\frac{d\\nu}{d\\mu}(x) = \\prod_{k=1}^{\\infty} \\frac{1}{1+\\beta_k} \\exp \\left( \\frac{\\beta_k x_k^2}{2(1+\\beta_k)} \\right)$$  \n",
    "\n",
    "converges almost everywhere with respect to $\\mu$.  \n",
    "\n",
    "The theory is tested below using two forms of the sequence $\\{ \\beta_k \\}_{k=1}^{\\infty}$, one bounded where $\\beta_k = \\frac{1}{2^k}$, $\\sum_{k=1}^{\\infty} \\beta_k = 1$. An unbounded sequence is also used to compare, where $\\beta_k = 1$, $\\sum_{k=1}^{\\infty} \\beta_k= \\infty$."
   ]
  },
  {
   "cell_type": "code",
   "execution_count": 2,
   "metadata": {},
   "outputs": [],
   "source": [
    "def beta_bounded(k):\n",
    "    return 1/pow(2, k)\n",
    "\n",
    "def beta_unbounded(k):\n",
    "    return 1"
   ]
  },
  {
   "cell_type": "markdown",
   "metadata": {},
   "source": [
    "The Radon-Nikodym derivative is evaluated at random values of $x$ and averaged over $N$ samples.  The dimension of the problem is increased to observe the convergence/divergence of the derivative."
   ]
  },
  {
   "cell_type": "code",
   "execution_count": 3,
   "metadata": {},
   "outputs": [],
   "source": [
    "def RND(dims, N, beta):\n",
    "    rnd = []\n",
    "    for d in dims:\n",
    "        \n",
    "        # Zero mean\n",
    "        m1 = np.zeros((d,))\n",
    "        m2 = np.zeros((d,))\n",
    "        \n",
    "        # Diagonal of Covariance matrices\n",
    "        s1 = np.ones((d,))\n",
    "        s2 = np.ones((d,))\n",
    "        \n",
    "        # Add on the sequence of betas to the second variance\n",
    "        for i in range(d):\n",
    "            s2[i] += beta(i)\n",
    "            \n",
    "        # Find an avearge of the derivative based on N samples from a standard mutlidimensional normal distribution\n",
    "        y = 0\n",
    "        for _ in range(N):\n",
    "            x = np.random.randn(d)\n",
    "            f1 = multivariate_normal.pdf(x=x, mean=m1, cov=np.diag(s1))\n",
    "            f2 = multivariate_normal.pdf(x=x, mean=m2, cov=np.diag(s2))\n",
    "            y += (f2/f1)\n",
    "        rnd.append(y/N)\n",
    "        \n",
    "    return rnd"
   ]
  },
  {
   "cell_type": "code",
   "execution_count": 4,
   "metadata": {},
   "outputs": [],
   "source": [
    "dims = np.arange(1,200,30)\n",
    "N = 3000"
   ]
  },
  {
   "cell_type": "code",
   "execution_count": 5,
   "metadata": {},
   "outputs": [],
   "source": [
    "rnd_bounded = RND(dims, N, beta_bounded)\n",
    "rnd_unbounded = RND(dims, N, beta_unbounded)"
   ]
  },
  {
   "cell_type": "code",
   "execution_count": 6,
   "metadata": {},
   "outputs": [
    {
     "data": {
      "image/png": "[encoded data removed]",
      "text/plain": [
       "<Figure size 720x360 with 2 Axes>"
      ]
     },
     "metadata": {
      "needs_background": "light"
     },
     "output_type": "display_data"
    }
   ],
   "source": [
    "## Plotting\n",
    "fig, (ax1, ax2) = plt.subplots(1, 2, figsize=(10, 5))\n",
    "ax1.plot(dims, rnd_bounded)\n",
    "ax2.plot(dims, rnd_unbounded)\n",
    "ax1.set_title(r'Bounded $\\beta_k = \\frac{1}{2^k}$', fontsize=16)\n",
    "ax2.set_title(r'Unbounded $\\beta_k = 1$', fontsize=16)\n",
    "ax1.set_ylim(0,max(rnd_bounded)*1.1)\n",
    "ax2.set_ylim(0,max(rnd_unbounded)*1.1)\n",
    "ax1.set_xlabel('Dimension', fontsize=16)\n",
    "ax2.set_xlabel('Dimension', fontsize=16)\n",
    "ax1.set_ylabel(r'$\\frac{d\\mu}{d\\nu}$', rotation=0, fontsize=20)\n",
    "ax2.set_ylabel(r'$\\frac{d\\mu}{d\\nu}$', rotation=0, fontsize=20)\n",
    "plt.show()"
   ]
  },
  {
   "cell_type": "markdown",
   "metadata": {},
   "source": [
    "Another example of the curse of dimensionality is shown through the degeneracy of acceptance probability with increasing dimension for an MCMC sampler."
   ]
  },
  {
   "cell_type": "code",
   "execution_count": 7,
   "metadata": {},
   "outputs": [],
   "source": [
    "# basic MH sampler implementation\n",
    "def MH(initial, proposal_cov, target, N):\n",
    "    \n",
    "    x_prev = initial\n",
    "    \n",
    "    acc = 0\n",
    "    for i in range(N):\n",
    "        x_new = multivariate_normal.rvs(mean=x_prev, cov=proposal_cov)\n",
    "        \n",
    "        a = min(target.pdf(x_new)/target.pdf(x_prev), 1)\n",
    "        u = np.random.rand()\n",
    "        if u<a:\n",
    "            acc+=1\n",
    "            x_prev = x_new\n",
    "        else:\n",
    "            pass\n",
    "    return acc/N"
   ]
  },
  {
   "cell_type": "code",
   "execution_count": 8,
   "metadata": {},
   "outputs": [],
   "source": [
    "dims = np.arange(1, 40, 2)\n",
    "acceptance = []\n",
    "for d in dims:\n",
    "    start = np.zeros(d)\n",
    "    proposal_cov = np.eye(d)\n",
    "    target = multivariate_normal(mean=np.zeros(d), cov=np.eye(d))\n",
    "    acceptance.append(MH(start, proposal_cov, target,1000))"
   ]
  },
  {
   "cell_type": "code",
   "execution_count": 9,
   "metadata": {},
   "outputs": [
    {
     "data": {
      "image/png": "[encoded data removed]",
      "text/plain": [
       "<Figure size 432x288 with 1 Axes>"
      ]
     },
     "metadata": {
      "needs_background": "light"
     },
     "output_type": "display_data"
    }
   ],
   "source": [
    "## Plotting\n",
    "plt.bar(dims,acceptance,color='r')\n",
    "plt.ylim(0, 1)\n",
    "plt.xlim(1, max(dims))\n",
    "plt.ylabel('Acceptance probability',fontsize=16)\n",
    "plt.xlabel('Dimension',fontsize=16)\n",
    "plt.show()"
   ]
  }
 ],
 "metadata": {
  "kernelspec": {
   "display_name": "Python 3",
   "language": "python",
   "name": "python3"
  },
  "language_info": {
   "codemirror_mode": {
    "name": "ipython",
    "version": 3
   },
   "file_extension": ".py",
   "mimetype": "text/x-python",
   "name": "python",
   "nbconvert_exporter": "python",
   "pygments_lexer": "ipython3",
   "version": "3.7.6"
  }
 },
 "nbformat": 4,
 "nbformat_minor": 4
}
